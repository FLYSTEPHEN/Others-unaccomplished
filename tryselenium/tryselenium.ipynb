{
 "cells": [
  {
   "cell_type": "code",
   "execution_count": 2,
   "metadata": {},
   "outputs": [
    {
     "name": "stdout",
     "output_type": "stream",
     "text": [
      "CPU times: user 2.52 s, sys: 183 ms, total: 2.7 s\n",
      "Wall time: 59 s\n"
     ]
    }
   ],
   "source": [
    "%%time\n",
    "import requests\n",
    "from selenium import webdriver\n",
    "import time\n",
    "browser = webdriver.Chrome()\n",
    "browser.get('http://jplusplus.github.io/global-directory/')\n",
    "time.sleep(2)\n",
    "journalists_data = []\n",
    "for i in browser.find_elements_by_class_name(\"back\"):\n",
    "    journalist = []\n",
    "    journalist.append(i.find_element_by_class_name(\"name\").text)\n",
    "    journalist.append(i.find_element_by_class_name(\"institution\").text)\n",
    "    journalist.append(i.find_element_by_class_name(\"city\").text)\n",
    "    journalist.append(i.find_element_by_xpath(\"//div[@class='pgp']/a\").text)\n",
    "    journalist.append(i.find_element_by_xpath(\"//div[@class='email']/a\").get_attribute('href').replace('mailto:', ''))\n",
    "    journalist.append(i.find_element_by_xpath(\"//div[@class='twitter']/a\").get_attribute('href'))\n",
    "    journalist.append(i.find_element_by_xpath(\"//div[@class='github']/a\").get_attribute('href'))\n",
    "    journalist.append(i.find_element_by_xpath(\"//div[@class='website']/a\").get_attribute('href'))\n",
    "journalists_data.append(journalist)"
   ]
  },
  {
   "cell_type": "code",
   "execution_count": 7,
   "metadata": {},
   "outputs": [
    {
     "name": "stdout",
     "output_type": "stream",
     "text": [
      "[['摩奇园林专访：土壤生态功能提升新变革与绿化废弃物循环产业...'], ['实现环境的可持续发展——UED杂志专访邓代明'], ['平凡坚毅中的建筑传承——UED杂志专访李子萍'], ['董功专访：建筑作为一种呈现的媒介'], ['waa专访：言说|量体裁衣的裁缝与叙事性的建筑'], ['WOHA专访：不断发现有新意且可持续发展的解决方案'], ['【专访】伊纳克·阿巴罗斯: 实用主义的人文商业情怀'], ['【专访】丹尼尔·里伯斯金: 当艺术遇见商业'], ['金陵美术馆 | 以“工业厂房”为起点，以“工业材料”为终点'], ['华黎：地 · 景中的建筑 | UED百名建筑师展'], ['从表绿到深绿——作为绿色建筑产业化引领者的深度思考与探索'], ['【为城市而设计·艺术改变城市】王中：郑州1904公园']]\n"
     ]
    }
   ],
   "source": [
    "import requests\n",
    "from bs4 import BeautifulSoup\n",
    "import csv\n",
    "page_url=\"http://www.chinabuildingcentre.com/list-41-1.html\"\n",
    "\n",
    "comment_tittles= []\n",
    "r = requests.get(page_url).text\n",
    "data = BeautifulSoup(r,\"html.parser\")\n",
    "all_div = data.find('div',attrs={'class':\"wrapper fixed\"}).find_all(\"li\")\n",
    "for i in all_div:\n",
    "    comment_tittle=[]\n",
    "    comment_tittle.append(i.find('div', attrs={'class':\"t\"}).find('strong').text)\n",
    "    comment_tittles.append(comment_tittle)\n",
    "print(comment_tittles)"
   ]
  },
  {
   "cell_type": "code",
   "execution_count": null,
   "metadata": {},
   "outputs": [],
   "source": [
    "import requests\n",
    "from bs4 import BeautifulSoup\n",
    "import csv\n",
    "\n",
    "def scrape_onepage(page_url):\n",
    "    comment_tittles= []\n",
    "    r = requests.get(page_url).text\n",
    "    data = BeautifulSoup(r,\"html.parser\")\n",
    "    all_div = data.find('div',attrs={'class':\"wrapper fixed\"}).find_all(\"li\")\n",
    "    print(all_div)\n",
    "    for i in all_div:\n",
    "        comment_tittle=[]\n",
    "        comment_tittle.append(i.find('div', attrs={'class':\"t\"}).find('strong').text)\n",
    "        comment_tittle.append(i.find('div', attrs={'class':\"w\"}).text)\n",
    "        comment_tittles.append(comment_tittle)\n",
    "    return comment_tittles\n",
    "page_urls=[]\n",
    "for i in range(1,2):\n",
    "    page_url=[]\n",
    "    page_url='http://www.chinabuildingcentre.com/list-41-{}.html'.format(i)\n",
    "    page_urls.append(page_url)\n",
    "print(page_urls)\n",
    "for i in page_urls:\n",
    "    scrape_onepage(i)"
   ]
  },
  {
   "cell_type": "code",
   "execution_count": null,
   "metadata": {},
   "outputs": [],
   "source": []
  }
 ],
 "metadata": {
  "kernelspec": {
   "display_name": "Python 3",
   "language": "python",
   "name": "python3"
  },
  "language_info": {
   "codemirror_mode": {
    "name": "ipython",
    "version": 3
   },
   "file_extension": ".py",
   "mimetype": "text/x-python",
   "name": "python",
   "nbconvert_exporter": "python",
   "pygments_lexer": "ipython3",
   "version": "3.7.0"
  }
 },
 "nbformat": 4,
 "nbformat_minor": 2
}
